{
 "cells": [
  {
   "cell_type": "code",
   "execution_count": 1,
   "metadata": {},
   "outputs": [],
   "source": [
    "import pandas as pd\n",
    "import numpy as np\n",
    "import re\n"
   ]
  },
  {
   "cell_type": "code",
   "execution_count": 2,
   "metadata": {},
   "outputs": [],
   "source": [
    "data = pd.read_csv(\"radiohead_tracks.csv\")"
   ]
  },
  {
   "cell_type": "code",
   "execution_count": 3,
   "metadata": {},
   "outputs": [],
   "source": [
    "pd.options.display.max_colwidth = 1000"
   ]
  },
  {
   "cell_type": "code",
   "execution_count": 4,
   "metadata": {},
   "outputs": [
    {
     "data": {
      "text/html": [
       "<div>\n",
       "<style scoped>\n",
       "    .dataframe tbody tr th:only-of-type {\n",
       "        vertical-align: middle;\n",
       "    }\n",
       "\n",
       "    .dataframe tbody tr th {\n",
       "        vertical-align: top;\n",
       "    }\n",
       "\n",
       "    .dataframe thead th {\n",
       "        text-align: right;\n",
       "    }\n",
       "</style>\n",
       "<table border=\"1\" class=\"dataframe\">\n",
       "  <thead>\n",
       "    <tr style=\"text-align: right;\">\n",
       "      <th></th>\n",
       "      <th>Track Name</th>\n",
       "      <th>Album Name</th>\n",
       "      <th>Lyrics</th>\n",
       "    </tr>\n",
       "  </thead>\n",
       "  <tbody>\n",
       "    <tr>\n",
       "      <th>0</th>\n",
       "      <td>You by Radiohead</td>\n",
       "      <td>Pablo Honey by Radiohead</td>\n",
       "      <td>42 ContributorsTranslationsFrançaisYou Lyrics\\nYou are the sun and moon and stars are you\\nAnd I could never run away from you\\n\\nYou try at working out chaotic things\\nAnd why should I believe myself, not you?\\n\\nIt's like the world is gonna end so soon\\nAnd why should I believe myself?\\nMy–\\n\\nYou, me and everything\\nCaught in the fire\\nI can see me drowning\\nCaught in the fire\\nYou, me and everything\\nCaught in the fire\\nI can see me drowning\\nCaught in the fire</td>\n",
       "    </tr>\n",
       "    <tr>\n",
       "      <th>1</th>\n",
       "      <td>Creep by Radiohead</td>\n",
       "      <td>Pablo Honey by Radiohead</td>\n",
       "      <td>182 ContributorsTranslationsPortuguêsPolskiDeutschEspañolالعربيةРусскийCreep Lyrics\\nWhen you were here before\\nCouldn't look you in the eye\\nYou're just like an angel\\nYour skin makes me cry\\nYou float like a feather\\nIn a beautiful world\\n\\nI wish I was special\\nYou're so fuckin' special\\n\\nBut I'm a creep, I'm a weirdo\\nWhat the hell am I doing here?\\nI don't belong here\\n\\nI don't care if it hurts\\nI wanna have control\\nI want a perfect body\\nI want a perfect soul\\nI want you to notice\\nWhen I'm not around\\n\\nYou're so fuckin' special\\nI wish I was special\\nYou might also like\\nBut I'm a creep, I'm a weirdo\\nWhat the hell am I doing here?\\nI don't belong here\\nOh-oh, oh-oh\\n\\nShe's running out the door\\nShe's running out\\nShe run, run, run, run\\nRun\\n\\nWhatever makes you happy\\nWhatever you want\\nYou're so fuckin' special\\nI wish I was special\\nBut I'm a creep, I'm a weirdo\\nWhat the hell am I doing here?\\nI don't belong here\\nI don't belong here277Embed</td>\n",
       "    </tr>\n",
       "    <tr>\n",
       "      <th>2</th>\n",
       "      <td>How Do You? by Radiohead</td>\n",
       "      <td>Pablo Honey by Radiohead</td>\n",
       "      <td>21 ContributorsHow Do You? Lyrics\\nHe's bitter and twisted\\nHe knows what he wants\\nHe wants to be loved and\\nHe wants to belong\\nHe wants us to listen\\nHe wants us to weep\\nAnd he was a stupid baby who turned into a powerful freak\\n\\nBut how do you?\\nHow do you?\\nHow do you?\\n\\nHe lives with his mother\\nBut we show him respect\\nHe's a dangerous bigot\\nBut we always forget\\nAnd he's just like his daddy\\n'Cause he cheats on his friends\\nAnd he steals and he bullies\\nAnyway that he can\\n\\nBut how do you?\\nHow do you?\\nHow do you?You might also like4Embed</td>\n",
       "    </tr>\n",
       "  </tbody>\n",
       "</table>\n",
       "</div>"
      ],
      "text/plain": [
       "                 Track Name                Album Name  \\\n",
       "0          You by Radiohead  Pablo Honey by Radiohead   \n",
       "1        Creep by Radiohead  Pablo Honey by Radiohead   \n",
       "2  How Do You? by Radiohead  Pablo Honey by Radiohead   \n",
       "\n",
       "                                                                                                                                                                                                                                                                                                                                                                                                                                                                                                                                                                                                                                                                                                                                                                                                                                                                                                                                                                                                         Lyrics  \n",
       "0                                                                                                                                                                                                                                                                                                                                                                                                                                                                                                                         42 ContributorsTranslationsFrançaisYou Lyrics\\nYou are the sun and moon and stars are you\\nAnd I could never run away from you\\n\\nYou try at working out chaotic things\\nAnd why should I believe myself, not you?\\n\\nIt's like the world is gonna end so soon\\nAnd why should I believe myself?\\nMy–\\n\\nYou, me and everything\\nCaught in the fire\\nI can see me drowning\\nCaught in the fire\\nYou, me and everything\\nCaught in the fire\\nI can see me drowning\\nCaught in the fire  \n",
       "1  182 ContributorsTranslationsPortuguêsPolskiDeutschEspañolالعربيةРусскийCreep Lyrics\\nWhen you were here before\\nCouldn't look you in the eye\\nYou're just like an angel\\nYour skin makes me cry\\nYou float like a feather\\nIn a beautiful world\\n\\nI wish I was special\\nYou're so fuckin' special\\n\\nBut I'm a creep, I'm a weirdo\\nWhat the hell am I doing here?\\nI don't belong here\\n\\nI don't care if it hurts\\nI wanna have control\\nI want a perfect body\\nI want a perfect soul\\nI want you to notice\\nWhen I'm not around\\n\\nYou're so fuckin' special\\nI wish I was special\\nYou might also like\\nBut I'm a creep, I'm a weirdo\\nWhat the hell am I doing here?\\nI don't belong here\\nOh-oh, oh-oh\\n\\nShe's running out the door\\nShe's running out\\nShe run, run, run, run\\nRun\\n\\nWhatever makes you happy\\nWhatever you want\\nYou're so fuckin' special\\nI wish I was special\\nBut I'm a creep, I'm a weirdo\\nWhat the hell am I doing here?\\nI don't belong here\\nI don't belong here277Embed  \n",
       "2                                                                                                                                                                                                                                                                                                                                                                                                                                21 ContributorsHow Do You? Lyrics\\nHe's bitter and twisted\\nHe knows what he wants\\nHe wants to be loved and\\nHe wants to belong\\nHe wants us to listen\\nHe wants us to weep\\nAnd he was a stupid baby who turned into a powerful freak\\n\\nBut how do you?\\nHow do you?\\nHow do you?\\n\\nHe lives with his mother\\nBut we show him respect\\nHe's a dangerous bigot\\nBut we always forget\\nAnd he's just like his daddy\\n'Cause he cheats on his friends\\nAnd he steals and he bullies\\nAnyway that he can\\n\\nBut how do you?\\nHow do you?\\nHow do you?You might also like4Embed  "
      ]
     },
     "execution_count": 4,
     "metadata": {},
     "output_type": "execute_result"
    }
   ],
   "source": [
    "data.head(3)"
   ]
  },
  {
   "cell_type": "markdown",
   "metadata": {},
   "source": [
    "# We can see that there is always unwanted data before the first '\\n'. We can remove it using regex"
   ]
  },
  {
   "cell_type": "code",
   "execution_count": 5,
   "metadata": {},
   "outputs": [
    {
     "data": {
      "text/html": [
       "<div>\n",
       "<style scoped>\n",
       "    .dataframe tbody tr th:only-of-type {\n",
       "        vertical-align: middle;\n",
       "    }\n",
       "\n",
       "    .dataframe tbody tr th {\n",
       "        vertical-align: top;\n",
       "    }\n",
       "\n",
       "    .dataframe thead th {\n",
       "        text-align: right;\n",
       "    }\n",
       "</style>\n",
       "<table border=\"1\" class=\"dataframe\">\n",
       "  <thead>\n",
       "    <tr style=\"text-align: right;\">\n",
       "      <th></th>\n",
       "      <th>Track Name</th>\n",
       "      <th>Album Name</th>\n",
       "      <th>Lyrics</th>\n",
       "    </tr>\n",
       "  </thead>\n",
       "  <tbody>\n",
       "    <tr>\n",
       "      <th>0</th>\n",
       "      <td>You by Radiohead</td>\n",
       "      <td>Pablo Honey by Radiohead</td>\n",
       "      <td>You are the sun and moon and stars are you\\nAnd I could never run away from you\\n\\nYou try at working out chaotic things\\nAnd why should I believe myself, not you?\\n\\nIt's like the world is gonna end so soon\\nAnd why should I believe myself?\\nMy–\\n\\nYou, me and everything\\nCaught in the fire\\nI can see me drowning\\nCaught in the fire\\nYou, me and everything\\nCaught in the fire\\nI can see me drowning\\nCaught in the fire</td>\n",
       "    </tr>\n",
       "    <tr>\n",
       "      <th>1</th>\n",
       "      <td>Creep by Radiohead</td>\n",
       "      <td>Pablo Honey by Radiohead</td>\n",
       "      <td>When you were here before\\nCouldn't look you in the eye\\nYou're just like an angel\\nYour skin makes me cry\\nYou float like a feather\\nIn a beautiful world\\n\\nI wish I was special\\nYou're so fuckin' special\\n\\nBut I'm a creep, I'm a weirdo\\nWhat the hell am I doing here?\\nI don't belong here\\n\\nI don't care if it hurts\\nI wanna have control\\nI want a perfect body\\nI want a perfect soul\\nI want you to notice\\nWhen I'm not around\\n\\nYou're so fuckin' special\\nI wish I was special\\nYou might also like\\nBut I'm a creep, I'm a weirdo\\nWhat the hell am I doing here?\\nI don't belong here\\nOh-oh, oh-oh\\n\\nShe's running out the door\\nShe's running out\\nShe run, run, run, run\\nRun\\n\\nWhatever makes you happy\\nWhatever you want\\nYou're so fuckin' special\\nI wish I was special\\nBut I'm a creep, I'm a weirdo\\nWhat the hell am I doing here?\\nI don't belong here\\nI don't belong here277Embed</td>\n",
       "    </tr>\n",
       "    <tr>\n",
       "      <th>2</th>\n",
       "      <td>How Do You? by Radiohead</td>\n",
       "      <td>Pablo Honey by Radiohead</td>\n",
       "      <td>He's bitter and twisted\\nHe knows what he wants\\nHe wants to be loved and\\nHe wants to belong\\nHe wants us to listen\\nHe wants us to weep\\nAnd he was a stupid baby who turned into a powerful freak\\n\\nBut how do you?\\nHow do you?\\nHow do you?\\n\\nHe lives with his mother\\nBut we show him respect\\nHe's a dangerous bigot\\nBut we always forget\\nAnd he's just like his daddy\\n'Cause he cheats on his friends\\nAnd he steals and he bullies\\nAnyway that he can\\n\\nBut how do you?\\nHow do you?\\nHow do you?You might also like4Embed</td>\n",
       "    </tr>\n",
       "  </tbody>\n",
       "</table>\n",
       "</div>"
      ],
      "text/plain": [
       "                 Track Name                Album Name  \\\n",
       "0          You by Radiohead  Pablo Honey by Radiohead   \n",
       "1        Creep by Radiohead  Pablo Honey by Radiohead   \n",
       "2  How Do You? by Radiohead  Pablo Honey by Radiohead   \n",
       "\n",
       "                                                                                                                                                                                                                                                                                                                                                                                                                                                                                                                                                                                                                                                                                                                                                                                                                                                                                                                    Lyrics  \n",
       "0                                                                                                                                                                                                                                                                                                                                                                                                                                                                                   You are the sun and moon and stars are you\\nAnd I could never run away from you\\n\\nYou try at working out chaotic things\\nAnd why should I believe myself, not you?\\n\\nIt's like the world is gonna end so soon\\nAnd why should I believe myself?\\nMy–\\n\\nYou, me and everything\\nCaught in the fire\\nI can see me drowning\\nCaught in the fire\\nYou, me and everything\\nCaught in the fire\\nI can see me drowning\\nCaught in the fire  \n",
       "1  When you were here before\\nCouldn't look you in the eye\\nYou're just like an angel\\nYour skin makes me cry\\nYou float like a feather\\nIn a beautiful world\\n\\nI wish I was special\\nYou're so fuckin' special\\n\\nBut I'm a creep, I'm a weirdo\\nWhat the hell am I doing here?\\nI don't belong here\\n\\nI don't care if it hurts\\nI wanna have control\\nI want a perfect body\\nI want a perfect soul\\nI want you to notice\\nWhen I'm not around\\n\\nYou're so fuckin' special\\nI wish I was special\\nYou might also like\\nBut I'm a creep, I'm a weirdo\\nWhat the hell am I doing here?\\nI don't belong here\\nOh-oh, oh-oh\\n\\nShe's running out the door\\nShe's running out\\nShe run, run, run, run\\nRun\\n\\nWhatever makes you happy\\nWhatever you want\\nYou're so fuckin' special\\nI wish I was special\\nBut I'm a creep, I'm a weirdo\\nWhat the hell am I doing here?\\nI don't belong here\\nI don't belong here277Embed  \n",
       "2                                                                                                                                                                                                                                                                                                                                                                              He's bitter and twisted\\nHe knows what he wants\\nHe wants to be loved and\\nHe wants to belong\\nHe wants us to listen\\nHe wants us to weep\\nAnd he was a stupid baby who turned into a powerful freak\\n\\nBut how do you?\\nHow do you?\\nHow do you?\\n\\nHe lives with his mother\\nBut we show him respect\\nHe's a dangerous bigot\\nBut we always forget\\nAnd he's just like his daddy\\n'Cause he cheats on his friends\\nAnd he steals and he bullies\\nAnyway that he can\\n\\nBut how do you?\\nHow do you?\\nHow do you?You might also like4Embed  "
      ]
     },
     "execution_count": 5,
     "metadata": {},
     "output_type": "execute_result"
    }
   ],
   "source": [
    "# Function to remove characters before the first line break or \\n symbol\n",
    "def remove_before_line_break(text):\n",
    "    return re.sub(r'^.*?\\n', '', str(text)) # Convert to string before applying the regex\n",
    "\n",
    "# Apply the function to the 'Lyrics' column\n",
    "data['Lyrics'] = [remove_before_line_break(lyric) for lyric in data['Lyrics']]\n",
    "\n",
    "\n",
    "data.head(3)"
   ]
  },
  {
   "cell_type": "markdown",
   "metadata": {},
   "source": [
    "# We will now remove all occurences of '\\n'"
   ]
  },
  {
   "cell_type": "code",
   "execution_count": 6,
   "metadata": {},
   "outputs": [
    {
     "data": {
      "text/html": [
       "<div>\n",
       "<style scoped>\n",
       "    .dataframe tbody tr th:only-of-type {\n",
       "        vertical-align: middle;\n",
       "    }\n",
       "\n",
       "    .dataframe tbody tr th {\n",
       "        vertical-align: top;\n",
       "    }\n",
       "\n",
       "    .dataframe thead th {\n",
       "        text-align: right;\n",
       "    }\n",
       "</style>\n",
       "<table border=\"1\" class=\"dataframe\">\n",
       "  <thead>\n",
       "    <tr style=\"text-align: right;\">\n",
       "      <th></th>\n",
       "      <th>Track Name</th>\n",
       "      <th>Album Name</th>\n",
       "      <th>Lyrics</th>\n",
       "    </tr>\n",
       "  </thead>\n",
       "  <tbody>\n",
       "    <tr>\n",
       "      <th>0</th>\n",
       "      <td>You by Radiohead</td>\n",
       "      <td>Pablo Honey by Radiohead</td>\n",
       "      <td>You are the sun and moon and stars are you And I could never run away from you  You try at working out chaotic things And why should I believe myself, not you?  It's like the world is gonna end so soon And why should I believe myself? My–  You, me and everything Caught in the fire I can see me drowning Caught in the fire You, me and everything Caught in the fire I can see me drowning Caught in the fire</td>\n",
       "    </tr>\n",
       "    <tr>\n",
       "      <th>1</th>\n",
       "      <td>Creep by Radiohead</td>\n",
       "      <td>Pablo Honey by Radiohead</td>\n",
       "      <td>When you were here before Couldn't look you in the eye You're just like an angel Your skin makes me cry You float like a feather In a beautiful world  I wish I was special You're so fuckin' special  But I'm a creep, I'm a weirdo What the hell am I doing here? I don't belong here  I don't care if it hurts I wanna have control I want a perfect body I want a perfect soul I want you to notice When I'm not around  You're so fuckin' special I wish I was special You might also like But I'm a creep, I'm a weirdo What the hell am I doing here? I don't belong here Oh-oh, oh-oh  She's running out the door She's running out She run, run, run, run Run  Whatever makes you happy Whatever you want You're so fuckin' special I wish I was special But I'm a creep, I'm a weirdo What the hell am I doing here? I don't belong here I don't belong here277Embed</td>\n",
       "    </tr>\n",
       "    <tr>\n",
       "      <th>2</th>\n",
       "      <td>How Do You? by Radiohead</td>\n",
       "      <td>Pablo Honey by Radiohead</td>\n",
       "      <td>He's bitter and twisted He knows what he wants He wants to be loved and He wants to belong He wants us to listen He wants us to weep And he was a stupid baby who turned into a powerful freak  But how do you? How do you? How do you?  He lives with his mother But we show him respect He's a dangerous bigot But we always forget And he's just like his daddy 'Cause he cheats on his friends And he steals and he bullies Anyway that he can  But how do you? How do you? How do you?You might also like4Embed</td>\n",
       "    </tr>\n",
       "    <tr>\n",
       "      <th>3</th>\n",
       "      <td>Stop Whispering by Radiohead</td>\n",
       "      <td>Pablo Honey by Radiohead</td>\n",
       "      <td>And the wise man said I don't want to hear your voice And the thin man said I don't want to hear your voice And they're cursing me, and they won't let me be And there's nothing to say, and there's nothing to do  Stop whispering, start shouting Stop whispering, start shouting  And the mother say we spit on your son some more And the buildings say we spit on your face some more And the feeling is that there's something wrong 'Cause I can't find the words and I can't find the songs  Stop whispering, start shouting Stop whispering, start shouting  Dear Sir, I have a complaint Dear Sir, I have a complaint Can't remember what it is It doesn't matter anyway It doesn't matter anyway You might also like Stop whispering, stop whispering Stop whispering, stop whispering Stop, stop5Embed</td>\n",
       "    </tr>\n",
       "    <tr>\n",
       "      <th>4</th>\n",
       "      <td>Thinking About You by Radiohead</td>\n",
       "      <td>Pablo Honey by Radiohead</td>\n",
       "      <td>Been thinking about you Your records are here Your eyes are on my wall Your teeth are over there But I'm still no one And you're now a star What do you care?  Been thinking about you And there's no rest Shit, I still love you Still see you in bed But I'm playing with myself And what do you care when the other men are far, far better?  All the things you've got All the things you need Who bought you cigarettes Who bribed the company to come and see you, honey?  I've been thinking about you So how can you sleep? These people aren't your friends They're paid to kiss your feet They don't know what I know And why should you care, when I'm not there? You might also like  Been thinking about you And there's no rest Shit, I still love you Still see you in bed But I'm playing with myself And what do you care, when I'm not there?  All the things you've got That you'll never need All the things you've got I've bled and I bleed to please you  Been thinking about you9Embed</td>\n",
       "    </tr>\n",
       "  </tbody>\n",
       "</table>\n",
       "</div>"
      ],
      "text/plain": [
       "                        Track Name                Album Name  \\\n",
       "0                 You by Radiohead  Pablo Honey by Radiohead   \n",
       "1               Creep by Radiohead  Pablo Honey by Radiohead   \n",
       "2         How Do You? by Radiohead  Pablo Honey by Radiohead   \n",
       "3     Stop Whispering by Radiohead  Pablo Honey by Radiohead   \n",
       "4  Thinking About You by Radiohead  Pablo Honey by Radiohead   \n",
       "\n",
       "                                                                                                                                                                                                                                                                                                                                                                                                                                                                                                                                                                                                                                                                                                                                                                                                                                                                                                                                                                                                           Lyrics  \n",
       "0                                                                                                                                                                                                                                                                                                                                                                                                                                                                                                                                                                                           You are the sun and moon and stars are you And I could never run away from you  You try at working out chaotic things And why should I believe myself, not you?  It's like the world is gonna end so soon And why should I believe myself? My–  You, me and everything Caught in the fire I can see me drowning Caught in the fire You, me and everything Caught in the fire I can see me drowning Caught in the fire  \n",
       "1                                                                                                                                  When you were here before Couldn't look you in the eye You're just like an angel Your skin makes me cry You float like a feather In a beautiful world  I wish I was special You're so fuckin' special  But I'm a creep, I'm a weirdo What the hell am I doing here? I don't belong here  I don't care if it hurts I wanna have control I want a perfect body I want a perfect soul I want you to notice When I'm not around  You're so fuckin' special I wish I was special You might also like But I'm a creep, I'm a weirdo What the hell am I doing here? I don't belong here Oh-oh, oh-oh  She's running out the door She's running out She run, run, run, run Run  Whatever makes you happy Whatever you want You're so fuckin' special I wish I was special But I'm a creep, I'm a weirdo What the hell am I doing here? I don't belong here I don't belong here277Embed  \n",
       "2                                                                                                                                                                                                                                                                                                                                                                                                                                                                                            He's bitter and twisted He knows what he wants He wants to be loved and He wants to belong He wants us to listen He wants us to weep And he was a stupid baby who turned into a powerful freak  But how do you? How do you? How do you?  He lives with his mother But we show him respect He's a dangerous bigot But we always forget And he's just like his daddy 'Cause he cheats on his friends And he steals and he bullies Anyway that he can  But how do you? How do you? How do you?You might also like4Embed  \n",
       "3                                                                                                                                                                                              And the wise man said I don't want to hear your voice And the thin man said I don't want to hear your voice And they're cursing me, and they won't let me be And there's nothing to say, and there's nothing to do  Stop whispering, start shouting Stop whispering, start shouting  And the mother say we spit on your son some more And the buildings say we spit on your face some more And the feeling is that there's something wrong 'Cause I can't find the words and I can't find the songs  Stop whispering, start shouting Stop whispering, start shouting  Dear Sir, I have a complaint Dear Sir, I have a complaint Can't remember what it is It doesn't matter anyway It doesn't matter anyway You might also like Stop whispering, stop whispering Stop whispering, stop whispering Stop, stop5Embed  \n",
       "4  Been thinking about you Your records are here Your eyes are on my wall Your teeth are over there But I'm still no one And you're now a star What do you care?  Been thinking about you And there's no rest Shit, I still love you Still see you in bed But I'm playing with myself And what do you care when the other men are far, far better?  All the things you've got All the things you need Who bought you cigarettes Who bribed the company to come and see you, honey?  I've been thinking about you So how can you sleep? These people aren't your friends They're paid to kiss your feet They don't know what I know And why should you care, when I'm not there? You might also like  Been thinking about you And there's no rest Shit, I still love you Still see you in bed But I'm playing with myself And what do you care, when I'm not there?  All the things you've got That you'll never need All the things you've got I've bled and I bleed to please you  Been thinking about you9Embed  "
      ]
     },
     "execution_count": 6,
     "metadata": {},
     "output_type": "execute_result"
    }
   ],
   "source": [
    "data['Lyrics'] = [lyric.replace('\\n', ' ') for lyric in data['Lyrics']]\n",
    "data.head(5)"
   ]
  },
  {
   "cell_type": "markdown",
   "metadata": {},
   "source": [
    "# We will now lower case all characters"
   ]
  },
  {
   "cell_type": "code",
   "execution_count": 7,
   "metadata": {},
   "outputs": [],
   "source": [
    "data['Lyrics'] = [lyric.lower() for lyric in data['Lyrics']]\n"
   ]
  },
  {
   "cell_type": "code",
   "execution_count": 8,
   "metadata": {},
   "outputs": [
    {
     "data": {
      "text/html": [
       "<div>\n",
       "<style scoped>\n",
       "    .dataframe tbody tr th:only-of-type {\n",
       "        vertical-align: middle;\n",
       "    }\n",
       "\n",
       "    .dataframe tbody tr th {\n",
       "        vertical-align: top;\n",
       "    }\n",
       "\n",
       "    .dataframe thead th {\n",
       "        text-align: right;\n",
       "    }\n",
       "</style>\n",
       "<table border=\"1\" class=\"dataframe\">\n",
       "  <thead>\n",
       "    <tr style=\"text-align: right;\">\n",
       "      <th></th>\n",
       "      <th>Track Name</th>\n",
       "      <th>Album Name</th>\n",
       "      <th>Lyrics</th>\n",
       "    </tr>\n",
       "  </thead>\n",
       "  <tbody>\n",
       "    <tr>\n",
       "      <th>0</th>\n",
       "      <td>You by Radiohead</td>\n",
       "      <td>Pablo Honey by Radiohead</td>\n",
       "      <td>you are the sun and moon and stars are you and i could never run away from you  you try at working out chaotic things and why should i believe myself, not you?  it's like the world is gonna end so soon and why should i believe myself? my–  you, me and everything caught in the fire i can see me drowning caught in the fire you, me and everything caught in the fire i can see me drowning caught in the fire</td>\n",
       "    </tr>\n",
       "    <tr>\n",
       "      <th>1</th>\n",
       "      <td>Creep by Radiohead</td>\n",
       "      <td>Pablo Honey by Radiohead</td>\n",
       "      <td>when you were here before couldn't look you in the eye you're just like an angel your skin makes me cry you float like a feather in a beautiful world  i wish i was special you're so fuckin' special  but i'm a creep, i'm a weirdo what the hell am i doing here? i don't belong here  i don't care if it hurts i wanna have control i want a perfect body i want a perfect soul i want you to notice when i'm not around  you're so fuckin' special i wish i was special you might also like but i'm a creep, i'm a weirdo what the hell am i doing here? i don't belong here oh-oh, oh-oh  she's running out the door she's running out she run, run, run, run run  whatever makes you happy whatever you want you're so fuckin' special i wish i was special but i'm a creep, i'm a weirdo what the hell am i doing here? i don't belong here i don't belong here277embed</td>\n",
       "    </tr>\n",
       "    <tr>\n",
       "      <th>2</th>\n",
       "      <td>How Do You? by Radiohead</td>\n",
       "      <td>Pablo Honey by Radiohead</td>\n",
       "      <td>he's bitter and twisted he knows what he wants he wants to be loved and he wants to belong he wants us to listen he wants us to weep and he was a stupid baby who turned into a powerful freak  but how do you? how do you? how do you?  he lives with his mother but we show him respect he's a dangerous bigot but we always forget and he's just like his daddy 'cause he cheats on his friends and he steals and he bullies anyway that he can  but how do you? how do you? how do you?you might also like4embed</td>\n",
       "    </tr>\n",
       "  </tbody>\n",
       "</table>\n",
       "</div>"
      ],
      "text/plain": [
       "                 Track Name                Album Name  \\\n",
       "0          You by Radiohead  Pablo Honey by Radiohead   \n",
       "1        Creep by Radiohead  Pablo Honey by Radiohead   \n",
       "2  How Do You? by Radiohead  Pablo Honey by Radiohead   \n",
       "\n",
       "                                                                                                                                                                                                                                                                                                                                                                                                                                                                                                                                                                                                                                                                                                                                                                                                                                                                           Lyrics  \n",
       "0                                                                                                                                                                                                                                                                                                                                                                                                                                                           you are the sun and moon and stars are you and i could never run away from you  you try at working out chaotic things and why should i believe myself, not you?  it's like the world is gonna end so soon and why should i believe myself? my–  you, me and everything caught in the fire i can see me drowning caught in the fire you, me and everything caught in the fire i can see me drowning caught in the fire  \n",
       "1  when you were here before couldn't look you in the eye you're just like an angel your skin makes me cry you float like a feather in a beautiful world  i wish i was special you're so fuckin' special  but i'm a creep, i'm a weirdo what the hell am i doing here? i don't belong here  i don't care if it hurts i wanna have control i want a perfect body i want a perfect soul i want you to notice when i'm not around  you're so fuckin' special i wish i was special you might also like but i'm a creep, i'm a weirdo what the hell am i doing here? i don't belong here oh-oh, oh-oh  she's running out the door she's running out she run, run, run, run run  whatever makes you happy whatever you want you're so fuckin' special i wish i was special but i'm a creep, i'm a weirdo what the hell am i doing here? i don't belong here i don't belong here277embed  \n",
       "2                                                                                                                                                                                                                                                                                                                                                            he's bitter and twisted he knows what he wants he wants to be loved and he wants to belong he wants us to listen he wants us to weep and he was a stupid baby who turned into a powerful freak  but how do you? how do you? how do you?  he lives with his mother but we show him respect he's a dangerous bigot but we always forget and he's just like his daddy 'cause he cheats on his friends and he steals and he bullies anyway that he can  but how do you? how do you? how do you?you might also like4embed  "
      ]
     },
     "execution_count": 8,
     "metadata": {},
     "output_type": "execute_result"
    }
   ],
   "source": [
    "data.head(3)"
   ]
  },
  {
   "cell_type": "markdown",
   "metadata": {},
   "source": [
    "# There is a reccuring pattern of \"you might also like\" thats needs to do removed as it is not part of song lyrics."
   ]
  },
  {
   "cell_type": "code",
   "execution_count": 9,
   "metadata": {},
   "outputs": [],
   "source": [
    "def remove_you_might_also_like(text):\n",
    "    return re.sub(r'you might also like\\S*', '', text)\n",
    "\n",
    "# Apply the function to the 'Lyrics' column\n",
    "data['Lyrics'] = [remove_you_might_also_like(lyric) for lyric in data['Lyrics']]\n"
   ]
  },
  {
   "cell_type": "code",
   "execution_count": 10,
   "metadata": {},
   "outputs": [
    {
     "data": {
      "text/html": [
       "<div>\n",
       "<style scoped>\n",
       "    .dataframe tbody tr th:only-of-type {\n",
       "        vertical-align: middle;\n",
       "    }\n",
       "\n",
       "    .dataframe tbody tr th {\n",
       "        vertical-align: top;\n",
       "    }\n",
       "\n",
       "    .dataframe thead th {\n",
       "        text-align: right;\n",
       "    }\n",
       "</style>\n",
       "<table border=\"1\" class=\"dataframe\">\n",
       "  <thead>\n",
       "    <tr style=\"text-align: right;\">\n",
       "      <th></th>\n",
       "      <th>Track Name</th>\n",
       "      <th>Album Name</th>\n",
       "      <th>Lyrics</th>\n",
       "    </tr>\n",
       "  </thead>\n",
       "  <tbody>\n",
       "    <tr>\n",
       "      <th>0</th>\n",
       "      <td>You by Radiohead</td>\n",
       "      <td>Pablo Honey by Radiohead</td>\n",
       "      <td>you are the sun and moon and stars are you and i could never run away from you  you try at working out chaotic things and why should i believe myself, not you?  it's like the world is gonna end so soon and why should i believe myself? my–  you, me and everything caught in the fire i can see me drowning caught in the fire you, me and everything caught in the fire i can see me drowning caught in the fire</td>\n",
       "    </tr>\n",
       "    <tr>\n",
       "      <th>1</th>\n",
       "      <td>Creep by Radiohead</td>\n",
       "      <td>Pablo Honey by Radiohead</td>\n",
       "      <td>when you were here before couldn't look you in the eye you're just like an angel your skin makes me cry you float like a feather in a beautiful world  i wish i was special you're so fuckin' special  but i'm a creep, i'm a weirdo what the hell am i doing here? i don't belong here  i don't care if it hurts i wanna have control i want a perfect body i want a perfect soul i want you to notice when i'm not around  you're so fuckin' special i wish i was special  but i'm a creep, i'm a weirdo what the hell am i doing here? i don't belong here oh-oh, oh-oh  she's running out the door she's running out she run, run, run, run run  whatever makes you happy whatever you want you're so fuckin' special i wish i was special but i'm a creep, i'm a weirdo what the hell am i doing here? i don't belong here i don't belong here277embed</td>\n",
       "    </tr>\n",
       "    <tr>\n",
       "      <th>2</th>\n",
       "      <td>How Do You? by Radiohead</td>\n",
       "      <td>Pablo Honey by Radiohead</td>\n",
       "      <td>he's bitter and twisted he knows what he wants he wants to be loved and he wants to belong he wants us to listen he wants us to weep and he was a stupid baby who turned into a powerful freak  but how do you? how do you? how do you?  he lives with his mother but we show him respect he's a dangerous bigot but we always forget and he's just like his daddy 'cause he cheats on his friends and he steals and he bullies anyway that he can  but how do you? how do you? how do you?</td>\n",
       "    </tr>\n",
       "  </tbody>\n",
       "</table>\n",
       "</div>"
      ],
      "text/plain": [
       "                 Track Name                Album Name  \\\n",
       "0          You by Radiohead  Pablo Honey by Radiohead   \n",
       "1        Creep by Radiohead  Pablo Honey by Radiohead   \n",
       "2  How Do You? by Radiohead  Pablo Honey by Radiohead   \n",
       "\n",
       "                                                                                                                                                                                                                                                                                                                                                                                                                                                                                                                                                                                                                                                                                                                                                                                                                                                        Lyrics  \n",
       "0                                                                                                                                                                                                                                                                                                                                                                                                                                        you are the sun and moon and stars are you and i could never run away from you  you try at working out chaotic things and why should i believe myself, not you?  it's like the world is gonna end so soon and why should i believe myself? my–  you, me and everything caught in the fire i can see me drowning caught in the fire you, me and everything caught in the fire i can see me drowning caught in the fire  \n",
       "1  when you were here before couldn't look you in the eye you're just like an angel your skin makes me cry you float like a feather in a beautiful world  i wish i was special you're so fuckin' special  but i'm a creep, i'm a weirdo what the hell am i doing here? i don't belong here  i don't care if it hurts i wanna have control i want a perfect body i want a perfect soul i want you to notice when i'm not around  you're so fuckin' special i wish i was special  but i'm a creep, i'm a weirdo what the hell am i doing here? i don't belong here oh-oh, oh-oh  she's running out the door she's running out she run, run, run, run run  whatever makes you happy whatever you want you're so fuckin' special i wish i was special but i'm a creep, i'm a weirdo what the hell am i doing here? i don't belong here i don't belong here277embed  \n",
       "2                                                                                                                                                                                                                                                                                                                                                                  he's bitter and twisted he knows what he wants he wants to be loved and he wants to belong he wants us to listen he wants us to weep and he was a stupid baby who turned into a powerful freak  but how do you? how do you? how do you?  he lives with his mother but we show him respect he's a dangerous bigot but we always forget and he's just like his daddy 'cause he cheats on his friends and he steals and he bullies anyway that he can  but how do you? how do you? how do you?  "
      ]
     },
     "execution_count": 10,
     "metadata": {},
     "output_type": "execute_result"
    }
   ],
   "source": [
    "data.head(3)"
   ]
  },
  {
   "cell_type": "code",
   "execution_count": 11,
   "metadata": {},
   "outputs": [],
   "source": [
    "def remove_last_word(text):\n",
    "    # Pattern to match the last word\n",
    "    pattern = r'\\b\\w+\\b$'\n",
    "    # Replace the last word with an empty string\n",
    "    return re.sub(pattern, '', text)\n",
    "\n",
    "# Apply the function to each lyric in the dataset\n",
    "lyrics_without_last_word = [remove_last_word(lyric) for lyric in data['Lyrics']]"
   ]
  },
  {
   "cell_type": "code",
   "execution_count": 12,
   "metadata": {},
   "outputs": [
    {
     "data": {
      "text/html": [
       "<div>\n",
       "<style scoped>\n",
       "    .dataframe tbody tr th:only-of-type {\n",
       "        vertical-align: middle;\n",
       "    }\n",
       "\n",
       "    .dataframe tbody tr th {\n",
       "        vertical-align: top;\n",
       "    }\n",
       "\n",
       "    .dataframe thead th {\n",
       "        text-align: right;\n",
       "    }\n",
       "</style>\n",
       "<table border=\"1\" class=\"dataframe\">\n",
       "  <thead>\n",
       "    <tr style=\"text-align: right;\">\n",
       "      <th></th>\n",
       "      <th>Track Name</th>\n",
       "      <th>Album Name</th>\n",
       "      <th>Lyrics</th>\n",
       "    </tr>\n",
       "  </thead>\n",
       "  <tbody>\n",
       "    <tr>\n",
       "      <th>0</th>\n",
       "      <td>You by Radiohead</td>\n",
       "      <td>Pablo Honey by Radiohead</td>\n",
       "      <td>you are the sun and moon and stars are you and i could never run away from you  you try at working out chaotic things and why should i believe myself, not you?  it's like the world is gonna end so soon and why should i believe myself? my–  you, me and everything caught in the fire i can see me drowning caught in the fire you, me and everything caught in the fire i can see me drowning caught in the fire</td>\n",
       "    </tr>\n",
       "    <tr>\n",
       "      <th>1</th>\n",
       "      <td>Creep by Radiohead</td>\n",
       "      <td>Pablo Honey by Radiohead</td>\n",
       "      <td>when you were here before couldn't look you in the eye you're just like an angel your skin makes me cry you float like a feather in a beautiful world  i wish i was special you're so fuckin' special  but i'm a creep, i'm a weirdo what the hell am i doing here? i don't belong here  i don't care if it hurts i wanna have control i want a perfect body i want a perfect soul i want you to notice when i'm not around  you're so fuckin' special i wish i was special  but i'm a creep, i'm a weirdo what the hell am i doing here? i don't belong here oh-oh, oh-oh  she's running out the door she's running out she run, run, run, run run  whatever makes you happy whatever you want you're so fuckin' special i wish i was special but i'm a creep, i'm a weirdo what the hell am i doing here? i don't belong here i don't belong here277embed</td>\n",
       "    </tr>\n",
       "    <tr>\n",
       "      <th>2</th>\n",
       "      <td>How Do You? by Radiohead</td>\n",
       "      <td>Pablo Honey by Radiohead</td>\n",
       "      <td>he's bitter and twisted he knows what he wants he wants to be loved and he wants to belong he wants us to listen he wants us to weep and he was a stupid baby who turned into a powerful freak  but how do you? how do you? how do you?  he lives with his mother but we show him respect he's a dangerous bigot but we always forget and he's just like his daddy 'cause he cheats on his friends and he steals and he bullies anyway that he can  but how do you? how do you? how do you?</td>\n",
       "    </tr>\n",
       "  </tbody>\n",
       "</table>\n",
       "</div>"
      ],
      "text/plain": [
       "                 Track Name                Album Name  \\\n",
       "0          You by Radiohead  Pablo Honey by Radiohead   \n",
       "1        Creep by Radiohead  Pablo Honey by Radiohead   \n",
       "2  How Do You? by Radiohead  Pablo Honey by Radiohead   \n",
       "\n",
       "                                                                                                                                                                                                                                                                                                                                                                                                                                                                                                                                                                                                                                                                                                                                                                                                                                                        Lyrics  \n",
       "0                                                                                                                                                                                                                                                                                                                                                                                                                                        you are the sun and moon and stars are you and i could never run away from you  you try at working out chaotic things and why should i believe myself, not you?  it's like the world is gonna end so soon and why should i believe myself? my–  you, me and everything caught in the fire i can see me drowning caught in the fire you, me and everything caught in the fire i can see me drowning caught in the fire  \n",
       "1  when you were here before couldn't look you in the eye you're just like an angel your skin makes me cry you float like a feather in a beautiful world  i wish i was special you're so fuckin' special  but i'm a creep, i'm a weirdo what the hell am i doing here? i don't belong here  i don't care if it hurts i wanna have control i want a perfect body i want a perfect soul i want you to notice when i'm not around  you're so fuckin' special i wish i was special  but i'm a creep, i'm a weirdo what the hell am i doing here? i don't belong here oh-oh, oh-oh  she's running out the door she's running out she run, run, run, run run  whatever makes you happy whatever you want you're so fuckin' special i wish i was special but i'm a creep, i'm a weirdo what the hell am i doing here? i don't belong here i don't belong here277embed  \n",
       "2                                                                                                                                                                                                                                                                                                                                                                  he's bitter and twisted he knows what he wants he wants to be loved and he wants to belong he wants us to listen he wants us to weep and he was a stupid baby who turned into a powerful freak  but how do you? how do you? how do you?  he lives with his mother but we show him respect he's a dangerous bigot but we always forget and he's just like his daddy 'cause he cheats on his friends and he steals and he bullies anyway that he can  but how do you? how do you? how do you?  "
      ]
     },
     "execution_count": 12,
     "metadata": {},
     "output_type": "execute_result"
    }
   ],
   "source": [
    "data.head(3)"
   ]
  },
  {
   "cell_type": "code",
   "execution_count": 13,
   "metadata": {},
   "outputs": [],
   "source": [
    "def remove_special_characters(text):\n",
    "    # Remove special characters and numbers using regex\n",
    "    cleaned_text = re.sub(r'[^a-zA-Z\\s]', '', text)\n",
    "    return cleaned_text\n",
    "\n",
    "lyrics_without_charachter = [remove_special_characters(lyric) for lyric in data['Lyrics']]"
   ]
  },
  {
   "cell_type": "code",
   "execution_count": 14,
   "metadata": {},
   "outputs": [
    {
     "data": {
      "text/html": [
       "<div>\n",
       "<style scoped>\n",
       "    .dataframe tbody tr th:only-of-type {\n",
       "        vertical-align: middle;\n",
       "    }\n",
       "\n",
       "    .dataframe tbody tr th {\n",
       "        vertical-align: top;\n",
       "    }\n",
       "\n",
       "    .dataframe thead th {\n",
       "        text-align: right;\n",
       "    }\n",
       "</style>\n",
       "<table border=\"1\" class=\"dataframe\">\n",
       "  <thead>\n",
       "    <tr style=\"text-align: right;\">\n",
       "      <th></th>\n",
       "      <th>Track Name</th>\n",
       "      <th>Album Name</th>\n",
       "      <th>Lyrics</th>\n",
       "    </tr>\n",
       "  </thead>\n",
       "  <tbody>\n",
       "    <tr>\n",
       "      <th>0</th>\n",
       "      <td>You by Radiohead</td>\n",
       "      <td>Pablo Honey by Radiohead</td>\n",
       "      <td>you are the sun and moon and stars are you and i could never run away from you  you try at working out chaotic things and why should i believe myself, not you?  it's like the world is gonna end so soon and why should i believe myself? my–  you, me and everything caught in the fire i can see me drowning caught in the fire you, me and everything caught in the fire i can see me drowning caught in the fire</td>\n",
       "    </tr>\n",
       "    <tr>\n",
       "      <th>1</th>\n",
       "      <td>Creep by Radiohead</td>\n",
       "      <td>Pablo Honey by Radiohead</td>\n",
       "      <td>when you were here before couldn't look you in the eye you're just like an angel your skin makes me cry you float like a feather in a beautiful world  i wish i was special you're so fuckin' special  but i'm a creep, i'm a weirdo what the hell am i doing here? i don't belong here  i don't care if it hurts i wanna have control i want a perfect body i want a perfect soul i want you to notice when i'm not around  you're so fuckin' special i wish i was special  but i'm a creep, i'm a weirdo what the hell am i doing here? i don't belong here oh-oh, oh-oh  she's running out the door she's running out she run, run, run, run run  whatever makes you happy whatever you want you're so fuckin' special i wish i was special but i'm a creep, i'm a weirdo what the hell am i doing here? i don't belong here i don't belong here277embed</td>\n",
       "    </tr>\n",
       "    <tr>\n",
       "      <th>2</th>\n",
       "      <td>How Do You? by Radiohead</td>\n",
       "      <td>Pablo Honey by Radiohead</td>\n",
       "      <td>he's bitter and twisted he knows what he wants he wants to be loved and he wants to belong he wants us to listen he wants us to weep and he was a stupid baby who turned into a powerful freak  but how do you? how do you? how do you?  he lives with his mother but we show him respect he's a dangerous bigot but we always forget and he's just like his daddy 'cause he cheats on his friends and he steals and he bullies anyway that he can  but how do you? how do you? how do you?</td>\n",
       "    </tr>\n",
       "  </tbody>\n",
       "</table>\n",
       "</div>"
      ],
      "text/plain": [
       "                 Track Name                Album Name  \\\n",
       "0          You by Radiohead  Pablo Honey by Radiohead   \n",
       "1        Creep by Radiohead  Pablo Honey by Radiohead   \n",
       "2  How Do You? by Radiohead  Pablo Honey by Radiohead   \n",
       "\n",
       "                                                                                                                                                                                                                                                                                                                                                                                                                                                                                                                                                                                                                                                                                                                                                                                                                                                        Lyrics  \n",
       "0                                                                                                                                                                                                                                                                                                                                                                                                                                        you are the sun and moon and stars are you and i could never run away from you  you try at working out chaotic things and why should i believe myself, not you?  it's like the world is gonna end so soon and why should i believe myself? my–  you, me and everything caught in the fire i can see me drowning caught in the fire you, me and everything caught in the fire i can see me drowning caught in the fire  \n",
       "1  when you were here before couldn't look you in the eye you're just like an angel your skin makes me cry you float like a feather in a beautiful world  i wish i was special you're so fuckin' special  but i'm a creep, i'm a weirdo what the hell am i doing here? i don't belong here  i don't care if it hurts i wanna have control i want a perfect body i want a perfect soul i want you to notice when i'm not around  you're so fuckin' special i wish i was special  but i'm a creep, i'm a weirdo what the hell am i doing here? i don't belong here oh-oh, oh-oh  she's running out the door she's running out she run, run, run, run run  whatever makes you happy whatever you want you're so fuckin' special i wish i was special but i'm a creep, i'm a weirdo what the hell am i doing here? i don't belong here i don't belong here277embed  \n",
       "2                                                                                                                                                                                                                                                                                                                                                                  he's bitter and twisted he knows what he wants he wants to be loved and he wants to belong he wants us to listen he wants us to weep and he was a stupid baby who turned into a powerful freak  but how do you? how do you? how do you?  he lives with his mother but we show him respect he's a dangerous bigot but we always forget and he's just like his daddy 'cause he cheats on his friends and he steals and he bullies anyway that he can  but how do you? how do you? how do you?  "
      ]
     },
     "execution_count": 14,
     "metadata": {},
     "output_type": "execute_result"
    }
   ],
   "source": [
    "data.head(3)"
   ]
  },
  {
   "cell_type": "code",
   "execution_count": 15,
   "metadata": {},
   "outputs": [
    {
     "name": "stdout",
     "output_type": "stream",
     "text": [
      "                                                                       Track Name  \\\n",
      "0                                                                You by Radiohead   \n",
      "1                                                              Creep by Radiohead   \n",
      "2                                                        How Do You? by Radiohead   \n",
      "3                                                    Stop Whispering by Radiohead   \n",
      "4                                                 Thinking About You by Radiohead   \n",
      "..                                                                            ...   \n",
      "99                                                     Present Tense by Radiohead   \n",
      "100  Tinker Tailor Soldier Sailor Rich Man Poor Man Beggar Man Thief by Radiohead   \n",
      "101                                                  True Love Waits by Radiohead   \n",
      "102                                                          Spectre by Radiohead   \n",
      "103                                                         Ill Wind by Radiohead   \n",
      "\n",
      "                          Album Name  \\\n",
      "0           Pablo Honey by Radiohead   \n",
      "1           Pablo Honey by Radiohead   \n",
      "2           Pablo Honey by Radiohead   \n",
      "3           Pablo Honey by Radiohead   \n",
      "4           Pablo Honey by Radiohead   \n",
      "..                               ...   \n",
      "99   A Moon Shaped Pool by Radiohead   \n",
      "100  A Moon Shaped Pool by Radiohead   \n",
      "101  A Moon Shaped Pool by Radiohead   \n",
      "102  A Moon Shaped Pool by Radiohead   \n",
      "103  A Moon Shaped Pool by Radiohead   \n",
      "\n",
      "                                                                                                                                                                                                                                                                                                                                                                                                                                                                                                                                                                                                                                                                                                                                                                                                                                                                                                                                                                                         Lyrics  \n",
      "0                                                                                                                                                                                                                                                                                                                                                                                                                                                                                                                                                                         you are the sun and moon and stars are you and i could never run away from you  you try at working out chaotic things and why should i believe myself, not you?  it's like the world is gonna end so soon and why should i believe myself? my–  you, me and everything caught in the fire i can see me drowning caught in the fire you, me and everything caught in the fire i can see me drowning caught in the fire  \n",
      "1                                                                                                                                      when you were here before couldn't look you in the eye you're just like an angel your skin makes me cry you float like a feather in a beautiful world  i wish i was special you're so fuckin' special  but i'm a creep, i'm a weirdo what the hell am i doing here? i don't belong here  i don't care if it hurts i wanna have control i want a perfect body i want a perfect soul i want you to notice when i'm not around  you're so fuckin' special i wish i was special  but i'm a creep, i'm a weirdo what the hell am i doing here? i don't belong here oh-oh, oh-oh  she's running out the door she's running out she run, run, run, run run  whatever makes you happy whatever you want you're so fuckin' special i wish i was special but i'm a creep, i'm a weirdo what the hell am i doing here? i don't belong here i don't belong hereembed  \n",
      "2                                                                                                                                                                                                                                                                                                                                                                                                                                                                                                   he's bitter and twisted he knows what he wants he wants to be loved and he wants to belong he wants us to listen he wants us to weep and he was a stupid baby who turned into a powerful freak  but how do you? how do you? how do you?  he lives with his mother but we show him respect he's a dangerous bigot but we always forget and he's just like his daddy 'cause he cheats on his friends and he steals and he bullies anyway that he can  but how do you? how do you? how do you?  \n",
      "3                                                                                                                                                                                                and the wise man said i don't want to hear your voice and the thin man said i don't want to hear your voice and they're cursing me, and they won't let me be and there's nothing to say, and there's nothing to do  stop whispering, start shouting stop whispering, start shouting  and the mother say we spit on your son some more and the buildings say we spit on your face some more and the feeling is that there's something wrong 'cause i can't find the words and i can't find the songs  stop whispering, start shouting stop whispering, start shouting  dear sir, i have a complaint dear sir, i have a complaint can't remember what it is it doesn't matter anyway it doesn't matter anyway  stop whispering, stop whispering stop whispering, stop whispering stop, stopembed  \n",
      "4    been thinking about you your records are here your eyes are on my wall your teeth are over there but i'm still no one and you're now a star what do you care?  been thinking about you and there's no rest shit, i still love you still see you in bed but i'm playing with myself and what do you care when the other men are far, far better?  all the things you've got all the things you need who bought you cigarettes who bribed the company to come and see you, honey?  i've been thinking about you so how can you sleep? these people aren't your friends they're paid to kiss your feet they don't know what i know and why should you care, when i'm not there?   been thinking about you and there's no rest shit, i still love you still see you in bed but i'm playing with myself and what do you care, when i'm not there?  all the things you've got that you'll never need all the things you've got i've bled and i bleed to please you  been thinking about youembed  \n",
      "..                                                                                                                                                                                                                                                                                                                                                                                                                                                                                                                                                                                                                                                                                                                                                                                                                                                                                                                                                                                          ...  \n",
      "99                                                                                                                                                                                                                                                                                                                                  this dance, this dance is like a weapon, is like a weapon of self-defence, of self-defence against the present, against the present the present tense no, i won't get heavy, don't get heavy keep it light and keep it moving i am doing no harm as my world comes crashing down i'll be dancing, freaking out deaf, dumb, and blind  in you, i'm lost in you, i'm lost  i won't turn around or the penny drops won't stop now, won't slack off or all this love will be in vain to stop from falling down a mine it's no one's business but mine where all this love has been in vain  in you, i'm lost in you, i'm lost in you, i'm lost in you, i'm lost  \n",
      "100                                                                                                                                                                                                                                                                                                                                                                                                                                                                                                           all the holes at once are comin' alive, set free out of sight and out of mind the lonely and their prey  the ones you light your fires to keep away is crawling out upon its belly and all you have to do is say \"yes\"  all the birds stay up in the trees all the fish swim down to the deep the lonely and their prey i am here, come to me before it's too late  the one you light your fires to keep away is crawling out upon its belly and all you have to do is say \"yes\"   \n",
      "101                                                                                                                                                                                                                                                                                                                                                                                                                                                                                                                                                                                                                             i'll drown my beliefs to have your babies i'll dress like your niece and wash your swollen feet  just don't leave don't leave  i'm not living i'm just killing time your tiny hands your crazy kitten smile  just don't leave don't leave  and true love waits in haunted attics and true love lives on lollipops and crisps  just don't leave don't leaveembed  \n",
      "102                                                                                                                                                                                                                                                                                                                                                                                                                                                                                                                                            i'm lost, i'm a ghost dispossessed, taken host my hunger burns a bullet hole a spectre of my mortal soul  these rumors and suspicion anger is a poison  the only truth that i could see is when you put your lips to me futures tricked by the past spectre, how he laughs  fear puts a spell on us always second-guessing love  my hunger burns a bullet hole a spectre of my mortal soul the only truth that i can see spectre has come for me  \n",
      "103                                                                                                                                                                                                                                                                                                                                                                                                                                                                                                                                                                                                                                                                                                                                                                   keep your distance then no harm will come  no ill wind will blow will blow  sudden words must never be spoken  no ill wind will blow will blow   keep your cool do not give into emotion  no ill wind will blow will blow  \n",
      "\n",
      "[104 rows x 3 columns]\n"
     ]
    }
   ],
   "source": [
    "# Define a function to remove all numerical digits from text\n",
    "def remove_numerical_digits(text):\n",
    "    return re.sub(r'\\d', '', text)\n",
    "\n",
    "# Assuming you have a DataFrame called data and a column named 'Lyrics'\n",
    "\n",
    "# Apply the function to the 'Lyrics' column\n",
    "data['Lyrics'] = data['Lyrics'].apply(remove_numerical_digits)\n",
    "\n",
    "# Display the updated DataFrame\n",
    "print(data)"
   ]
  },
  {
   "cell_type": "code",
   "execution_count": 16,
   "metadata": {},
   "outputs": [],
   "source": [
    "def remove_embed(text):\n",
    "    # Use regex to remove all occurrences of \"embed\" with any text attached to it\n",
    "    cleaned_text = re.sub(r'embed\\S*', '', text, flags=re.IGNORECASE)\n",
    "    return cleaned_text\n",
    "\n",
    "# Assuming you have a DataFrame called data and want to apply this function to the 'Lyrics' column\n",
    "data['Lyrics'] = data['Lyrics'].apply(remove_embed)"
   ]
  },
  {
   "cell_type": "code",
   "execution_count": 17,
   "metadata": {},
   "outputs": [],
   "source": [
    "def remove_punctuation(text):\n",
    "    # Use regex to remove commas, periods, parentheses, exclamation marks, and question marks\n",
    "    cleaned_text = re.sub(r'[.,()!?\\\\]', '', text)\n",
    "    return cleaned_text\n",
    "\n",
    "# Assuming you have a DataFrame called data and want to apply this function to the 'Lyrics' column\n",
    "data['Lyrics'] = data['Lyrics'].apply(remove_punctuation)\n"
   ]
  },
  {
   "cell_type": "code",
   "execution_count": 18,
   "metadata": {},
   "outputs": [],
   "source": [
    "file_path = '/Users/meetshah/Desktop/lyrics_gen/data_cleaning/new_data.csv'\n",
    "\n",
    "data.to_csv(file_path,index=False)"
   ]
  },
  {
   "cell_type": "code",
   "execution_count": 19,
   "metadata": {},
   "outputs": [],
   "source": [
    "new_data = pd.read_csv(\"new_data.csv\")"
   ]
  },
  {
   "cell_type": "code",
   "execution_count": 20,
   "metadata": {},
   "outputs": [
    {
     "data": {
      "text/html": [
       "<div>\n",
       "<style scoped>\n",
       "    .dataframe tbody tr th:only-of-type {\n",
       "        vertical-align: middle;\n",
       "    }\n",
       "\n",
       "    .dataframe tbody tr th {\n",
       "        vertical-align: top;\n",
       "    }\n",
       "\n",
       "    .dataframe thead th {\n",
       "        text-align: right;\n",
       "    }\n",
       "</style>\n",
       "<table border=\"1\" class=\"dataframe\">\n",
       "  <thead>\n",
       "    <tr style=\"text-align: right;\">\n",
       "      <th></th>\n",
       "      <th>Track Name</th>\n",
       "      <th>Album Name</th>\n",
       "      <th>Lyrics</th>\n",
       "    </tr>\n",
       "  </thead>\n",
       "  <tbody>\n",
       "    <tr>\n",
       "      <th>0</th>\n",
       "      <td>You by Radiohead</td>\n",
       "      <td>Pablo Honey by Radiohead</td>\n",
       "      <td>you are the sun and moon and stars are you and i could never run away from you  you try at working out chaotic things and why should i believe myself not you  it's like the world is gonna end so soon and why should i believe myself my–  you me and everything caught in the fire i can see me drowning caught in the fire you me and everything caught in the fire i can see me drowning caught in the fire</td>\n",
       "    </tr>\n",
       "    <tr>\n",
       "      <th>1</th>\n",
       "      <td>Creep by Radiohead</td>\n",
       "      <td>Pablo Honey by Radiohead</td>\n",
       "      <td>when you were here before couldn't look you in the eye you're just like an angel your skin makes me cry you float like a feather in a beautiful world  i wish i was special you're so fuckin' special  but i'm a creep i'm a weirdo what the hell am i doing here i don't belong here  i don't care if it hurts i wanna have control i want a perfect body i want a perfect soul i want you to notice when i'm not around  you're so fuckin' special i wish i was special  but i'm a creep i'm a weirdo what the hell am i doing here i don't belong here oh-oh oh-oh  she's running out the door she's running out she run run run run run  whatever makes you happy whatever you want you're so fuckin' special i wish i was special but i'm a creep i'm a weirdo what the hell am i doing here i don't belong here i don't belong here</td>\n",
       "    </tr>\n",
       "    <tr>\n",
       "      <th>2</th>\n",
       "      <td>How Do You? by Radiohead</td>\n",
       "      <td>Pablo Honey by Radiohead</td>\n",
       "      <td>he's bitter and twisted he knows what he wants he wants to be loved and he wants to belong he wants us to listen he wants us to weep and he was a stupid baby who turned into a powerful freak  but how do you how do you how do you  he lives with his mother but we show him respect he's a dangerous bigot but we always forget and he's just like his daddy 'cause he cheats on his friends and he steals and he bullies anyway that he can  but how do you how do you how do you</td>\n",
       "    </tr>\n",
       "    <tr>\n",
       "      <th>3</th>\n",
       "      <td>Stop Whispering by Radiohead</td>\n",
       "      <td>Pablo Honey by Radiohead</td>\n",
       "      <td>and the wise man said i don't want to hear your voice and the thin man said i don't want to hear your voice and they're cursing me and they won't let me be and there's nothing to say and there's nothing to do  stop whispering start shouting stop whispering start shouting  and the mother say we spit on your son some more and the buildings say we spit on your face some more and the feeling is that there's something wrong 'cause i can't find the words and i can't find the songs  stop whispering start shouting stop whispering start shouting  dear sir i have a complaint dear sir i have a complaint can't remember what it is it doesn't matter anyway it doesn't matter anyway  stop whispering stop whispering stop whispering stop whispering stop stop</td>\n",
       "    </tr>\n",
       "    <tr>\n",
       "      <th>4</th>\n",
       "      <td>Thinking About You by Radiohead</td>\n",
       "      <td>Pablo Honey by Radiohead</td>\n",
       "      <td>been thinking about you your records are here your eyes are on my wall your teeth are over there but i'm still no one and you're now a star what do you care  been thinking about you and there's no rest shit i still love you still see you in bed but i'm playing with myself and what do you care when the other men are far far better  all the things you've got all the things you need who bought you cigarettes who bribed the company to come and see you honey  i've been thinking about you so how can you sleep these people aren't your friends they're paid to kiss your feet they don't know what i know and why should you care when i'm not there   been thinking about you and there's no rest shit i still love you still see you in bed but i'm playing with myself and what do you care when i'm not there  all the things you've got that you'll never need all the things you've got i've bled and i bleed to please you  been thinking about you</td>\n",
       "    </tr>\n",
       "    <tr>\n",
       "      <th>...</th>\n",
       "      <td>...</td>\n",
       "      <td>...</td>\n",
       "      <td>...</td>\n",
       "    </tr>\n",
       "    <tr>\n",
       "      <th>99</th>\n",
       "      <td>Present Tense by Radiohead</td>\n",
       "      <td>A Moon Shaped Pool by Radiohead</td>\n",
       "      <td>this dance this dance is like a weapon is like a weapon of self-defence of self-defence against the present against the present the present tense no i won't get heavy don't get heavy keep it light and keep it moving i am doing no harm as my world comes crashing down i'll be dancing freaking out deaf dumb and blind  in you i'm lost in you i'm lost  i won't turn around or the penny drops won't stop now won't slack off or all this love will be in vain to stop from falling down a mine it's no one's business but mine where all this love has been in vain  in you i'm lost in you i'm lost in you i'm lost in you i'm lost</td>\n",
       "    </tr>\n",
       "    <tr>\n",
       "      <th>100</th>\n",
       "      <td>Tinker Tailor Soldier Sailor Rich Man Poor Man Beggar Man Thief by Radiohead</td>\n",
       "      <td>A Moon Shaped Pool by Radiohead</td>\n",
       "      <td>all the holes at once are comin' alive set free out of sight and out of mind the lonely and their prey  the ones you light your fires to keep away is crawling out upon its belly and all you have to do is say \"yes\"  all the birds stay up in the trees all the fish swim down to the deep the lonely and their prey i am here come to me before it's too late  the one you light your fires to keep away is crawling out upon its belly and all you have to do is say \"yes\"</td>\n",
       "    </tr>\n",
       "    <tr>\n",
       "      <th>101</th>\n",
       "      <td>True Love Waits by Radiohead</td>\n",
       "      <td>A Moon Shaped Pool by Radiohead</td>\n",
       "      <td>i'll drown my beliefs to have your babies i'll dress like your niece and wash your swollen feet  just don't leave don't leave  i'm not living i'm just killing time your tiny hands your crazy kitten smile  just don't leave don't leave  and true love waits in haunted attics and true love lives on lollipops and crisps  just don't leave don't leave</td>\n",
       "    </tr>\n",
       "    <tr>\n",
       "      <th>102</th>\n",
       "      <td>Spectre by Radiohead</td>\n",
       "      <td>A Moon Shaped Pool by Radiohead</td>\n",
       "      <td>i'm lost i'm a ghost dispossessed taken host my hunger burns a bullet hole a spectre of my mortal soul  these rumors and suspicion anger is a poison  the only truth that i could see is when you put your lips to me futures tricked by the past spectre how he laughs  fear puts a spell on us always second-guessing love  my hunger burns a bullet hole a spectre of my mortal soul the only truth that i can see spectre has come for me</td>\n",
       "    </tr>\n",
       "    <tr>\n",
       "      <th>103</th>\n",
       "      <td>Ill Wind by Radiohead</td>\n",
       "      <td>A Moon Shaped Pool by Radiohead</td>\n",
       "      <td>keep your distance then no harm will come  no ill wind will blow will blow  sudden words must never be spoken  no ill wind will blow will blow   keep your cool do not give into emotion  no ill wind will blow will blow</td>\n",
       "    </tr>\n",
       "  </tbody>\n",
       "</table>\n",
       "<p>104 rows × 3 columns</p>\n",
       "</div>"
      ],
      "text/plain": [
       "                                                                       Track Name  \\\n",
       "0                                                                You by Radiohead   \n",
       "1                                                              Creep by Radiohead   \n",
       "2                                                        How Do You? by Radiohead   \n",
       "3                                                    Stop Whispering by Radiohead   \n",
       "4                                                 Thinking About You by Radiohead   \n",
       "..                                                                            ...   \n",
       "99                                                     Present Tense by Radiohead   \n",
       "100  Tinker Tailor Soldier Sailor Rich Man Poor Man Beggar Man Thief by Radiohead   \n",
       "101                                                  True Love Waits by Radiohead   \n",
       "102                                                          Spectre by Radiohead   \n",
       "103                                                         Ill Wind by Radiohead   \n",
       "\n",
       "                          Album Name  \\\n",
       "0           Pablo Honey by Radiohead   \n",
       "1           Pablo Honey by Radiohead   \n",
       "2           Pablo Honey by Radiohead   \n",
       "3           Pablo Honey by Radiohead   \n",
       "4           Pablo Honey by Radiohead   \n",
       "..                               ...   \n",
       "99   A Moon Shaped Pool by Radiohead   \n",
       "100  A Moon Shaped Pool by Radiohead   \n",
       "101  A Moon Shaped Pool by Radiohead   \n",
       "102  A Moon Shaped Pool by Radiohead   \n",
       "103  A Moon Shaped Pool by Radiohead   \n",
       "\n",
       "                                                                                                                                                                                                                                                                                                                                                                                                                                                                                                                                                                                                                                                                                                                                                                                                                                                                                                                                                                        Lyrics  \n",
       "0                                                                                                                                                                                                                                                                                                                                                                                                                                                                                                                                                             you are the sun and moon and stars are you and i could never run away from you  you try at working out chaotic things and why should i believe myself not you  it's like the world is gonna end so soon and why should i believe myself my–  you me and everything caught in the fire i can see me drowning caught in the fire you me and everything caught in the fire i can see me drowning caught in the fire  \n",
       "1                                                                                                                                    when you were here before couldn't look you in the eye you're just like an angel your skin makes me cry you float like a feather in a beautiful world  i wish i was special you're so fuckin' special  but i'm a creep i'm a weirdo what the hell am i doing here i don't belong here  i don't care if it hurts i wanna have control i want a perfect body i want a perfect soul i want you to notice when i'm not around  you're so fuckin' special i wish i was special  but i'm a creep i'm a weirdo what the hell am i doing here i don't belong here oh-oh oh-oh  she's running out the door she's running out she run run run run run  whatever makes you happy whatever you want you're so fuckin' special i wish i was special but i'm a creep i'm a weirdo what the hell am i doing here i don't belong here i don't belong here  \n",
       "2                                                                                                                                                                                                                                                                                                                                                                                                                                                                                        he's bitter and twisted he knows what he wants he wants to be loved and he wants to belong he wants us to listen he wants us to weep and he was a stupid baby who turned into a powerful freak  but how do you how do you how do you  he lives with his mother but we show him respect he's a dangerous bigot but we always forget and he's just like his daddy 'cause he cheats on his friends and he steals and he bullies anyway that he can  but how do you how do you how do you  \n",
       "3                                                                                                                                                                                               and the wise man said i don't want to hear your voice and the thin man said i don't want to hear your voice and they're cursing me and they won't let me be and there's nothing to say and there's nothing to do  stop whispering start shouting stop whispering start shouting  and the mother say we spit on your son some more and the buildings say we spit on your face some more and the feeling is that there's something wrong 'cause i can't find the words and i can't find the songs  stop whispering start shouting stop whispering start shouting  dear sir i have a complaint dear sir i have a complaint can't remember what it is it doesn't matter anyway it doesn't matter anyway  stop whispering stop whispering stop whispering stop whispering stop stop  \n",
       "4    been thinking about you your records are here your eyes are on my wall your teeth are over there but i'm still no one and you're now a star what do you care  been thinking about you and there's no rest shit i still love you still see you in bed but i'm playing with myself and what do you care when the other men are far far better  all the things you've got all the things you need who bought you cigarettes who bribed the company to come and see you honey  i've been thinking about you so how can you sleep these people aren't your friends they're paid to kiss your feet they don't know what i know and why should you care when i'm not there   been thinking about you and there's no rest shit i still love you still see you in bed but i'm playing with myself and what do you care when i'm not there  all the things you've got that you'll never need all the things you've got i've bled and i bleed to please you  been thinking about you  \n",
       "..                                                                                                                                                                                                                                                                                                                                                                                                                                                                                                                                                                                                                                                                                                                                                                                                                                                                                                                                                                         ...  \n",
       "99                                                                                                                                                                                                                                                                                                                                 this dance this dance is like a weapon is like a weapon of self-defence of self-defence against the present against the present the present tense no i won't get heavy don't get heavy keep it light and keep it moving i am doing no harm as my world comes crashing down i'll be dancing freaking out deaf dumb and blind  in you i'm lost in you i'm lost  i won't turn around or the penny drops won't stop now won't slack off or all this love will be in vain to stop from falling down a mine it's no one's business but mine where all this love has been in vain  in you i'm lost in you i'm lost in you i'm lost in you i'm lost  \n",
       "100                                                                                                                                                                                                                                                                                                                                                                                                                                                                                            all the holes at once are comin' alive set free out of sight and out of mind the lonely and their prey  the ones you light your fires to keep away is crawling out upon its belly and all you have to do is say \"yes\"  all the birds stay up in the trees all the fish swim down to the deep the lonely and their prey i am here come to me before it's too late  the one you light your fires to keep away is crawling out upon its belly and all you have to do is say \"yes\"   \n",
       "101                                                                                                                                                                                                                                                                                                                                                                                                                                                                                                                                                                                                                 i'll drown my beliefs to have your babies i'll dress like your niece and wash your swollen feet  just don't leave don't leave  i'm not living i'm just killing time your tiny hands your crazy kitten smile  just don't leave don't leave  and true love waits in haunted attics and true love lives on lollipops and crisps  just don't leave don't leave  \n",
       "102                                                                                                                                                                                                                                                                                                                                                                                                                                                                                                                              i'm lost i'm a ghost dispossessed taken host my hunger burns a bullet hole a spectre of my mortal soul  these rumors and suspicion anger is a poison  the only truth that i could see is when you put your lips to me futures tricked by the past spectre how he laughs  fear puts a spell on us always second-guessing love  my hunger burns a bullet hole a spectre of my mortal soul the only truth that i can see spectre has come for me  \n",
       "103                                                                                                                                                                                                                                                                                                                                                                                                                                                                                                                                                                                                                                                                                                                                                  keep your distance then no harm will come  no ill wind will blow will blow  sudden words must never be spoken  no ill wind will blow will blow   keep your cool do not give into emotion  no ill wind will blow will blow  \n",
       "\n",
       "[104 rows x 3 columns]"
      ]
     },
     "execution_count": 20,
     "metadata": {},
     "output_type": "execute_result"
    }
   ],
   "source": [
    "new_data"
   ]
  },
  {
   "cell_type": "code",
   "execution_count": null,
   "metadata": {},
   "outputs": [],
   "source": []
  }
 ],
 "metadata": {
  "kernelspec": {
   "display_name": "machinelearning",
   "language": "python",
   "name": "python3"
  },
  "language_info": {
   "codemirror_mode": {
    "name": "ipython",
    "version": 3
   },
   "file_extension": ".py",
   "mimetype": "text/x-python",
   "name": "python",
   "nbconvert_exporter": "python",
   "pygments_lexer": "ipython3",
   "version": "3.11.8"
  }
 },
 "nbformat": 4,
 "nbformat_minor": 2
}
