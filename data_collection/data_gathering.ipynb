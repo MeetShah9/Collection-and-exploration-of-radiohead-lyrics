{
 "cells": [
  {
   "cell_type": "code",
   "execution_count": 3,
   "metadata": {},
   "outputs": [],
   "source": [
    "import requests\n",
    "import json\n",
    "from lyricsgenius import Genius\n",
    "from bs4 import BeautifulSoup\n",
    "import re\n",
    "\n",
    "token = '' #replace with your token\n",
    "genius = Genius(token,remove_section_headers = True,)\n"
   ]
  },
  {
   "cell_type": "code",
   "execution_count": 5,
   "metadata": {},
   "outputs": [
    {
     "name": "stdout",
     "output_type": "stream",
     "text": [
      "Searching for \"Pablo Honey\" by Radiohead...\n",
      "Wrote pablo_honey.json.\n",
      "Searching for \"The Bends\" by Radiohead...\n",
      "Wrote the_bends.json.\n",
      "Searching for \"OK Computer\" by Radiohead...\n",
      "Wrote ok_computer.json.\n",
      "Searching for \"Kid A\" by Radiohead...\n",
      "Wrote kid_a.json.\n",
      "Searching for \"Amnesiac\" by Radiohead...\n",
      "Wrote amnesiac.json.\n",
      "Searching for \"Hail to the Thief\" by Radiohead...\n",
      "Wrote hail_to_the_thief.json.\n",
      "Searching for \"In Rainbows\" by Radiohead...\n",
      "Wrote in_rainbows.json.\n",
      "Searching for \"The King of Limbs\" by Radiohead...\n",
      "Wrote the_king_of_limbs.json.\n",
      "Searching for \"A Moon Shaped Pool\" by Radiohead...\n",
      "Wrote a_moon_shaped_pool.json.\n",
      "JSON files saved successfully.\n"
     ]
    }
   ],
   "source": [
    "# Your Genius API access token\n",
    "token = ''#replace with your token\n",
    "\n",
    "# Initialize Genius API with your access token\n",
    "genius = Genius(token, remove_section_headers=True)\n",
    "\n",
    "# Define the list of album names\n",
    "album_names = ['Pablo Honey', 'The Bends', 'OK Computer', 'Kid A', 'Amnesiac', 'Hail to the Thief', 'In Rainbows', 'The King of Limbs', 'A Moon Shaped Pool']\n",
    "\n",
    "# Iterate through each album name\n",
    "for album_name in album_names:\n",
    "    # Search for the album on Genius\n",
    "    album = genius.search_album(name=album_name, text_format=True, artist=\"Radiohead\")\n",
    "    \n",
    "    # Construct the JSON file path for the album\n",
    "    json_file_path = f\"{album_name.lower().replace(' ', '_')}.json\"\n",
    "    \n",
    "    # Save the lyrics of the album to a JSON file\n",
    "    album.save_lyrics(filename=json_file_path, sanitize=True, extension='json')\n",
    "\n",
    "# Print a message indicating successful completion\n",
    "print('JSON files saved successfully.')"
   ]
  }
 ],
 "metadata": {
  "kernelspec": {
   "display_name": "machinelearning",
   "language": "python",
   "name": "python3"
  },
  "language_info": {
   "codemirror_mode": {
    "name": "ipython",
    "version": 3
   },
   "file_extension": ".py",
   "mimetype": "text/x-python",
   "name": "python",
   "nbconvert_exporter": "python",
   "pygments_lexer": "ipython3",
   "version": "3.11.8"
  }
 },
 "nbformat": 4,
 "nbformat_minor": 2
}
