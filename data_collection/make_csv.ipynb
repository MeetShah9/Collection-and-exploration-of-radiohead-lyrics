{
 "cells": [
  {
   "cell_type": "code",
   "execution_count": 2,
   "metadata": {},
   "outputs": [
    {
     "name": "stdout",
     "output_type": "stream",
     "text": [
      "CSV file created successfully.\n"
     ]
    }
   ],
   "source": [
    "import json\n",
    "import csv\n",
    "\n",
    "# Define the list of album names\n",
    "album_names = ['pablo_honey', 'the_bends', 'ok_computer', 'kid_a', 'amnesiac', 'hail_to_the_thief', 'in_rainbows', 'the_king_of_limbs', 'a_moon_shaped_pool']\n",
    "\n",
    "# Initialize a list to store all track data\n",
    "all_tracks_data = []\n",
    "\n",
    "# Iterate through each album\n",
    "for album_name in album_names:\n",
    "    # Construct the JSON file path\n",
    "    json_file_path = f\"{album_name}.json\"\n",
    "    \n",
    "    # Open the JSON file and read its contents\n",
    "    with open(json_file_path, 'r', encoding='utf-8') as file:\n",
    "        data = json.load(file)\n",
    "    \n",
    "    # Extract track information and append it to the list\n",
    "    for track in data['tracks']:\n",
    "        track_name = track['song']['full_title']\n",
    "        album_name = data['full_title']\n",
    "        lyrics = track['song']['lyrics']\n",
    "        all_tracks_data.append([track_name, album_name, lyrics])\n",
    "\n",
    "# Write all track data into a single CSV file\n",
    "csv_file = 'radiohead_tracks.csv'\n",
    "with open(csv_file, 'w', newline='', encoding='utf-8') as file:\n",
    "    writer = csv.writer(file)\n",
    "    writer.writerow(['Track Name', 'Album Name', 'Lyrics'])\n",
    "    writer.writerows(all_tracks_data)\n",
    "\n",
    "print('CSV file created successfully.')"
   ]
  }
 ],
 "metadata": {
  "kernelspec": {
   "display_name": "machinelearning",
   "language": "python",
   "name": "python3"
  },
  "language_info": {
   "codemirror_mode": {
    "name": "ipython",
    "version": 3
   },
   "file_extension": ".py",
   "mimetype": "text/x-python",
   "name": "python",
   "nbconvert_exporter": "python",
   "pygments_lexer": "ipython3",
   "version": "3.11.8"
  }
 },
 "nbformat": 4,
 "nbformat_minor": 2
}
